{
 "cells": [
  {
   "attachments": {},
   "cell_type": "markdown",
   "metadata": {},
   "source": [
    "This project aimed to achieve two things. Firstly, it the question was whether football results are predictable through a basic machine learning approach (not surprisingly, it was not possible). Additionally, the learning goal was to build an end-to-end [kedro]() pipeline using solely the [pyspark]() api. The reason for that interest is the immense power and advantages pyspark has over pandas\n",
    "\n",
    "## Problem Description\n",
    "Overall the goal was to predict the football results of the past x years \n",
    "\n",
    "## Repository\n",
    "\n",
    "## Data\n",
    "\n",
    "### Summary Statistics\n",
    "\n",
    "\n",
    "## Feature Engineering\n",
    "\n",
    "## Modeling\n",
    "\n",
    "## Inference\n",
    "\n",
    "## Model Evaluation\n",
    "\n",
    "## Next steps\n",
    "\n"
   ]
  }
 ],
 "metadata": {
  "language_info": {
   "name": "python"
  },
  "orig_nbformat": 4
 },
 "nbformat": 4,
 "nbformat_minor": 2
}
